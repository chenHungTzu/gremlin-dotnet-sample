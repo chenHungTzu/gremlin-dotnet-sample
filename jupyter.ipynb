{
 "cells": [
  {
   "cell_type": "code",
   "execution_count": null,
   "metadata": {},
   "outputs": [],
   "source": [
    "from gremlin_python import statics\n",
    "from gremlin_python.structure.graph import Graph\n",
    "from gremlin_python.process.graph_traversal import __\n",
    "from gremlin_python.process.strategies import *\n",
    "from gremlin_python.driver.driver_remote_connection import DriverRemoteConnection\n",
    "from gremlin_python.driver.aiohttp.transport import AiohttpTransport\n",
    "from gremlin_python.process.traversal import *\n",
    "import os\n",
    "\n",
    "port = 8182\n",
    "server = 'db-neptune-1.cluster-caqftmjovj9v.ap-northeast-1.neptune.amazonaws.com'\n",
    "\n",
    "endpoint = f'wss://{server}:{port}/gremlin'\n",
    "\n",
    "graph=Graph()\n",
    "\n",
    "connection = DriverRemoteConnection(endpoint,'g',\n",
    "                 transport_factory=lambda:AiohttpTransport(call_from_event_loop=True))\n",
    "\n",
    "g = graph.traversal().withRemote(connection)\n",
    "\n",
    "results =  (g.V().hasLabel('Identity')\n",
    "            .local(__.values('tenantId').fold())\n",
    "            .toList())\n",
    "\n",
    "# Print the results in a tabular form with a row index\n",
    "for i,c in enumerate(results,1):\n",
    "    print(\"%3d %4s\" % (i,c))\n",
    "\n",
    "connection.close()\n",
    "\n"
   ]
  }
 ],
 "metadata": {
  "language_info": {
   "name": "python"
  }
 },
 "nbformat": 4,
 "nbformat_minor": 2
}
